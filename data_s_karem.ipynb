{
 "cells": [
  {
   "cell_type": "markdown",
   "id": "1c0400f4",
   "metadata": {},
   "source": [
    "<h1>Data Science Tools and Ecosystem</h1>"
   ]
  },
  {
   "cell_type": "markdown",
   "id": "80938c0f",
   "metadata": {},
   "source": [
    "### In this notebook, Data Science Tools and Ecosystem are summarized."
   ]
  },
  {
   "cell_type": "markdown",
   "id": "f09d18bf",
   "metadata": {},
   "source": [
    "## Some of the popular languages that Data Scientists use are:\n",
    "- Python\n",
    "- R\n",
    "- SQL\n",
    "- Julia\n",
    "- Scala\n"
   ]
  },
  {
   "cell_type": "markdown",
   "id": "75774234",
   "metadata": {},
   "source": [
    "## Some of the commonly used libraries used by Data Scientists include:\n",
    "- Pandas\n",
    "- NumPy\n",
    "- Matplotlib\n",
    "- SciPy\n",
    "- TensorFlow\n",
    "- Keras\n",
    "- Scikit-learn\n",
    "- ggplot2\n",
    "- dplyr\n",
    "- caret\n"
   ]
  },
  {
   "cell_type": "markdown",
   "id": "47925b14",
   "metadata": {},
   "source": [
    "    \n",
    "## Data Science Tools\n",
    "\n",
    "<table align=\"left\">\n",
    "    <thead>\n",
    "        <tr>\n",
    "            <th>Tool</th>\n",
    "            <th>Description</th>\n",
    "        </tr>\n",
    "    </thead>\n",
    "    <tbody>\n",
    "        <tr>\n",
    "            <td>Jupyter</td>\n",
    "            <td>Interactive computing environment</td>\n",
    "        </tr>\n",
    "        <tr>\n",
    "            <td>RStudio</td>\n",
    "            <td>Integrated development environment for R</td>\n",
    "        </tr>\n",
    "        <tr>\n",
    "            <td>Apache Spark</td>\n",
    "            <td>Unified analytics engine for big data processing</td>\n",
    "        </tr>\n",
    "        <tr>\n",
    "            <td>TensorFlow</td>\n",
    "            <td>End-to-end open-source machine learning platform</td>\n",
    "        </tr>\n",
    "        <tr>\n",
    "            <td>Tableau</td>\n",
    "            <td>Data visualization tool</td>\n",
    "        </tr>\n",
    "    </tbody>\n",
    "</table>\n"
   ]
  },
  {
   "cell_type": "markdown",
   "id": "7e2ab2f4",
   "metadata": {},
   "source": [
    "## Below are a few examples of evaluating arithmetic expressions in Python\n"
   ]
  },
  {
   "cell_type": "code",
   "execution_count": 12,
   "id": "70a73d74",
   "metadata": {},
   "outputs": [
    {
     "data": {
      "text/plain": [
       "17"
      ]
     },
     "execution_count": 12,
     "metadata": {},
     "output_type": "execute_result"
    }
   ],
   "source": [
    "#This a simple arithmetic expression to mutiply then add integers\n",
    "(3*4)+5"
   ]
  },
  {
   "cell_type": "code",
   "execution_count": 13,
   "id": "82ed02f0",
   "metadata": {},
   "outputs": [
    {
     "data": {
      "text/plain": [
       "3.3333333333333335"
      ]
     },
     "execution_count": 13,
     "metadata": {},
     "output_type": "execute_result"
    }
   ],
   "source": [
    "# This will convert 200 minutes to hours by diving by 60 \n",
    "minutes = 200\n",
    "hours = minutes / 60\n",
    "hours"
   ]
  },
  {
   "cell_type": "markdown",
   "id": "437b54ac",
   "metadata": {},
   "source": [
    "<strong><title>Objectives:</title></strong>\n",
    "\n",
    "\n",
    "- List popular languages for Data Science\n",
    "- Introduce common libraries used in Data Science\n",
    "- Explore basic Data Science tools and their applications\n",
    "- Demonstrate basic arithmetic operations in Python\n",
    "- Showcase sharing and collaboration using GitHub"
   ]
  },
  {
   "cell_type": "markdown",
   "id": "141dd58b",
   "metadata": {},
   "source": [
    "<h2>Author</h2>\n",
    "\n",
    "Ahmed karem\n"
   ]
  },
  {
   "cell_type": "code",
   "execution_count": null,
   "id": "2ee4849a",
   "metadata": {},
   "outputs": [],
   "source": []
  }
 ],
 "metadata": {
  "kernelspec": {
   "display_name": "Python 3 (ipykernel)",
   "language": "python",
   "name": "python3"
  },
  "language_info": {
   "codemirror_mode": {
    "name": "ipython",
    "version": 3
   },
   "file_extension": ".py",
   "mimetype": "text/x-python",
   "name": "python",
   "nbconvert_exporter": "python",
   "pygments_lexer": "ipython3",
   "version": "3.10.9"
  }
 },
 "nbformat": 4,
 "nbformat_minor": 5
}
